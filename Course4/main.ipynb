{
 "cells": [
  {
   "cell_type": "code",
   "execution_count": 1,
   "metadata": {},
   "outputs": [],
   "source": [
    "import openai\n",
    "import os\n",
    "from openai import OpenAI\n",
    "client = OpenAI()\n",
    "\n",
    "from dotenv import load_dotenv, find_dotenv\n",
    "_ = load_dotenv(find_dotenv())\n",
    "\n",
    "# Load the OpenAI API key from the environment\n",
    "openai.api_key = os.getenv('OPENAI_API_KEY')\n",
    "\n",
    "# Print the API key\n",
    "print(openai.api_key)\n"
   ]
  },
  {
   "cell_type": "markdown",
   "metadata": {},
   "source": [
    "There is a pwd module that is not supported for the Windows system. So for that I have run this course's content in the jupyter notebook that is available on the course's transcript.\n"
   ]
  },
  {
   "cell_type": "code",
   "execution_count": null,
   "metadata": {},
   "outputs": [],
   "source": [
    "#This code will be able to load a pdf file\n",
    "from langchain.document_loaders import PyPDFLoader\n",
    "loader = PyPDFLoader(\"docs/cs229_lectures/MachineLearning-Lecture01.pdf\")\n",
    "pages = loader.load()"
   ]
  },
  {
   "cell_type": "code",
   "execution_count": null,
   "metadata": {},
   "outputs": [],
   "source": [
    "len(pages)  #On running the code the response was 22\n",
    "print(page.page_content[0:500])\n",
    "\n",
    "\"\"\"\n",
    "Otuput of the above line was:\n",
    "\n",
    "MachineLearning-Lecture01  \n",
    "Instructor (Andrew Ng):  Okay. Good morning. Welcome to CS229, the machine \n",
    "learning class. So what I wanna do today is ju st spend a little time going over the logistics \n",
    "of the class, and then we'll start to  talk a bit about machine learning.  \n",
    "By way of introduction, my name's  Andrew Ng and I'll be instru ctor for this class. And so \n",
    "I personally work in machine learning, and I' ve worked on it for about 15 years now, and \n",
    "I actually think that machine learning i\n",
    "\"\"\"\n",
    "\n",
    "page.metadata # THe output was {'source': 'docs/cs229_lectures/MachineLearning-Lecture01.pdf', 'page': 0}\n",
    "\n",
    "\n",
    "from langchain.document_loaders.generic import GenericLoader\n",
    "from langchain.document_loaders.parsers import OpenAIWhisperParser\n",
    "from langchain.document_loaders.blob_loaders.youtube_audio import YoutubeAudioLoader\n",
    "\n",
    "url=\"https://www.youtube.com/watch?v=jGwO_UgTS7I\"\n",
    "save_dir=\"docs/youtube/\"\n",
    "loader = GenericLoader(\n",
    "    YoutubeAudioLoader([url],save_dir),\n",
    "    OpenAIWhisperParser()\n",
    ")\n",
    "docs = loader.load()\n",
    "\n",
    "\"\"\"\n",
    "Output of the above code is:\n",
    "\n",
    "[youtube] Extracting URL: https://www.youtube.com/watch?v=jGwO_UgTS7I\n",
    "[youtube] jGwO_UgTS7I: Downloading webpage\n",
    "[youtube] jGwO_UgTS7I: Downloading ios player API JSON\n",
    "[youtube] jGwO_UgTS7I: Downloading android player API JSON\n",
    "[youtube] jGwO_UgTS7I: Downloading m3u8 information\n",
    "[info] jGwO_UgTS7I: Downloading 1 format(s): 140\n",
    "[download] Destination: docs/youtube//Stanford CS229： Machine Learning Course, Lecture 1 - Andrew Ng (Autumn 2018).m4a\n",
    "[download] 100% of   69.76MiB in 00:00:01 at 50.45MiB/s    \n",
    "[FixupM4a] Correcting container of \"docs/youtube//Stanford CS229： Machine Learning Course, Lecture 1 - Andrew Ng (Autumn 2018).m4a\"\n",
    "[ExtractAudio] Not converting audio docs/youtube//Stanford CS229： Machine Learning Course, Lecture 1 - Andrew Ng (Autumn 2018).m4a; file is already in target format m4a\n",
    "Transcribing part 1!\n",
    "\n",
    "\"\"\"\n",
    "\n",
    " \n",
    " \n",
    "from langchain.document_loaders import WebBaseLoader\n",
    "\n",
    "loader = WebBaseLoader(\"https://github.com/basecamp/handbook/blob/master/37signals-is-you.md\") "
   ]
  },
  {
   "cell_type": "code",
   "execution_count": null,
   "metadata": {},
   "outputs": [],
   "source": []
  }
 ],
 "metadata": {
  "kernelspec": {
   "display_name": "Python 3",
   "language": "python",
   "name": "python3"
  },
  "language_info": {
   "codemirror_mode": {
    "name": "ipython",
    "version": 3
   },
   "file_extension": ".py",
   "mimetype": "text/x-python",
   "name": "python",
   "nbconvert_exporter": "python",
   "pygments_lexer": "ipython3",
   "version": "3.11.4"
  }
 },
 "nbformat": 4,
 "nbformat_minor": 2
}
